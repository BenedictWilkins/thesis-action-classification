{
 "cells": [
  {
   "cell_type": "code",
   "execution_count": 1,
   "id": "6fc43f6d",
   "metadata": {},
   "outputs": [
    {
     "name": "stderr",
     "output_type": "stream",
     "text": [
      "GPU available: True, used: True\n",
      "TPU available: False, using: 0 TPU cores\n",
      "IPU available: False, using: 0 IPUs\n"
     ]
    }
   ],
   "source": [
    "import torch\n",
    "import jnu as J\n",
    "from thesisac.utils import load_run\n",
    "\n",
    "run_id = \"benedict-wilkins/thesis-action-classification/5jjkj851\"\n",
    "trainer, module, data_module, cfg = load_run(run_id)"
   ]
  },
  {
   "cell_type": "code",
   "execution_count": null,
   "id": "ad67e505",
   "metadata": {
    "scrolled": false
   },
   "outputs": [],
   "source": [
    "import torchvision\n",
    "data_module.prepare_test_data()\n",
    "loader = data_module.test_dataloader()\n",
    "with torch.no_grad():\n",
    "    for s, a in loader:\n",
    "        pa = torch.softmax(module(s, a), -1) # if use BCEWithLogitsLoss\n",
    "        pa = torch.nn.functional.one_hot(pa.argmax(-1), pa.shape[-1]).float()\n",
    "        ga = torch.nn.functional.one_hot(a[:,0], pa.shape[-1]).float()\n",
    "        #print(pa.shape, ga.shape)\n",
    "        err = torch.abs(pa - ga).sum().long().item()\n",
    "        print(f\"errors {err}/{pa.shape[0]} accuracy {1-err/pa.shape[0]}\")\n",
    "        index = torch.abs(pa - ga).sum(-1).bool()\n",
    "        if index.sum() > 0:\n",
    "           \n",
    "            imgs = torch.cat([*s[index].transpose(0,1)], dim=2)\n",
    "            imgs = torchvision.utils.make_grid(imgs)\n",
    "            print(imgs.shape)\n",
    "            print(a[:,0][index])\n",
    "            \n",
    "            #J.image(imgs)\n",
    "        print(\"-----------------------------------------------------\")\n"
   ]
  },
  {
   "cell_type": "code",
   "execution_count": null,
   "id": "a5d3312b",
   "metadata": {},
   "outputs": [],
   "source": []
  }
 ],
 "metadata": {
  "kernelspec": {
   "display_name": "PhD",
   "language": "python",
   "name": "phd"
  },
  "language_info": {
   "codemirror_mode": {
    "name": "ipython",
    "version": 3
   },
   "file_extension": ".py",
   "mimetype": "text/x-python",
   "name": "python",
   "nbconvert_exporter": "python",
   "pygments_lexer": "ipython3",
   "version": "3.8.12"
  }
 },
 "nbformat": 4,
 "nbformat_minor": 5
}
